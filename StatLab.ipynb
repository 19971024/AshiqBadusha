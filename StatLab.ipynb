{
  "nbformat": 4,
  "nbformat_minor": 0,
  "metadata": {
    "colab": {
      "name": "StatLab.ipynb",
      "provenance": [],
      "collapsed_sections": [],
      "authorship_tag": "ABX9TyOg+LJAeFMaN5l3EGL9bTcj",
      "include_colab_link": true
    },
    "kernelspec": {
      "name": "python3",
      "display_name": "Python 3"
    },
    "language_info": {
      "name": "python"
    }
  },
  "cells": [
    {
      "cell_type": "markdown",
      "metadata": {
        "id": "view-in-github",
        "colab_type": "text"
      },
      "source": [
        "<a href=\"https://colab.research.google.com/github/19971024/AshiqBadusha/blob/main/StatLab.ipynb\" target=\"_parent\"><img src=\"https://colab.research.google.com/assets/colab-badge.svg\" alt=\"Open In Colab\"/></a>"
      ]
    },
    {
      "cell_type": "code",
      "metadata": {
        "id": "ER3QD3KJSMp3"
      },
      "source": [
        ""
      ],
      "execution_count": null,
      "outputs": []
    },
    {
      "cell_type": "code",
      "metadata": {
        "id": "fBBqRN2dSbIc"
      },
      "source": [
        ""
      ],
      "execution_count": null,
      "outputs": []
    },
    {
      "cell_type": "markdown",
      "metadata": {
        "id": "Uc4SGkc1SVIh"
      },
      "source": [
        "\n",
        " Python program to calculate sum and average of first n natural\n",
        "numbers."
      ]
    },
    {
      "cell_type": "code",
      "metadata": {
        "colab": {
          "base_uri": "https://localhost:8080/"
        },
        "id": "D844vYAASWAy",
        "outputId": "dc5bf246-69a3-48a3-8e49-c88e95b28671"
      },
      "source": [
        "n = int(input(\"Enter number\"))\n",
        "sum = 0\n",
        "for num in range(1, n+1, 1):\n",
        "  sum = sum + num\n",
        "print(\"Sum of first\", n, \"number is:\", sum) \n",
        "avg = sum / n\n",
        "print(\"Average is:\",avg)"
      ],
      "execution_count": 5,
      "outputs": [
        {
          "output_type": "stream",
          "name": "stdout",
          "text": [
            "Enter number10\n",
            "Sum of first 10 number is: 55\n",
            "Average is: 5.5\n"
          ]
        }
      ]
    },
    {
      "cell_type": "markdown",
      "metadata": {
        "id": "FELhPL34UVqG"
      },
      "source": [
        " Python program to print first 10 numbers using a for loop.\n",
        "\n"
      ]
    },
    {
      "cell_type": "code",
      "metadata": {
        "colab": {
          "base_uri": "https://localhost:8080/"
        },
        "id": "ZeQetSU3UbQI",
        "outputId": "fc02e41f-ed33-4d3b-acc7-3c4e1b938983"
      },
      "source": [
        "print(\"First 10 number is:\")\n",
        "for i in range(1,11):\n",
        "  print(i)"
      ],
      "execution_count": 7,
      "outputs": [
        {
          "output_type": "stream",
          "name": "stdout",
          "text": [
            "First 10 number is:\n",
            "1\n",
            "2\n",
            "3\n",
            "4\n",
            "5\n",
            "6\n",
            "7\n",
            "8\n",
            "9\n",
            "10\n"
          ]
        }
      ]
    },
    {
      "cell_type": "markdown",
      "metadata": {
        "id": "6TkxCsRoVMS6"
      },
      "source": [
        "Python program to find the factorial of a given number."
      ]
    },
    {
      "cell_type": "code",
      "metadata": {
        "colab": {
          "base_uri": "https://localhost:8080/"
        },
        "id": "8yyYCYxSVNEA",
        "outputId": "951f7bbc-529b-4326-f192-48665fb5b04a"
      },
      "source": [
        "n = int(input(\"Enter the number:\"))\n",
        "fact = 1\n",
        "for i in range(1,n+1):\n",
        "  fact = fact*i\n",
        "  print(\"Factorial of\",n,\"is\",fact) "
      ],
      "execution_count": 9,
      "outputs": [
        {
          "output_type": "stream",
          "name": "stdout",
          "text": [
            "Enter the number:7\n",
            "Factorial of 7 is 1\n",
            "Factorial of 7 is 2\n",
            "Factorial of 7 is 6\n",
            "Factorial of 7 is 24\n",
            "Factorial of 7 is 120\n",
            "Factorial of 7 is 720\n",
            "Factorial of 7 is 5040\n"
          ]
        }
      ]
    },
    {
      "cell_type": "markdown",
      "metadata": {
        "id": "9LCbtMzIWuiZ"
      },
      "source": [
        " Python program to create a 5X2 integer array from a range between 100\n",
        "\n",
        "to 200 such that the difference between each element is 10. (use Numpy\n",
        "\n",
        "Library)"
      ]
    },
    {
      "cell_type": "code",
      "metadata": {
        "colab": {
          "base_uri": "https://localhost:8080/"
        },
        "id": "tCRJ1JDGWzN6",
        "outputId": "aa093f82-e95d-4f11-8d1a-cc4d5039eaa4"
      },
      "source": [
        "import numpy\n",
        "array = numpy.arange(100,200,10)\n",
        "array2 = array.reshape(5,2)\n",
        "print(\"5*2 integer array from a range of 100 to 200 is:\")\n",
        "print(array2) "
      ],
      "execution_count": 11,
      "outputs": [
        {
          "output_type": "stream",
          "name": "stdout",
          "text": [
            "5*2 integer array from a range of 100 to 200\n",
            "[[100 110]\n",
            " [120 130]\n",
            " [140 150]\n",
            " [160 170]\n",
            " [180 190]]\n"
          ]
        }
      ]
    },
    {
      "cell_type": "markdown",
      "metadata": {
        "id": "oHvPjNfMYUCv"
      },
      "source": [
        "Python program to create two 2-D arrays and Plot them using\n",
        "\n",
        "matplotlib. (use Numpy and matplotlib libraries)."
      ]
    },
    {
      "cell_type": "code",
      "metadata": {
        "colab": {
          "base_uri": "https://localhost:8080/",
          "height": 220
        },
        "id": "gCnDU-JmYYOs",
        "outputId": "ed563be0-6961-4f2a-8bb2-429ed140704b"
      },
      "source": [
        "import numpy\n",
        "import matplotlib.pyplot as plt\n",
        "\n",
        "array = numpy.arange(10).reshape(2,5)\n",
        "print(array)\n",
        "\n",
        "plt.imshow(array)\n",
        "plt.show()"
      ],
      "execution_count": 21,
      "outputs": [
        {
          "output_type": "stream",
          "name": "stdout",
          "text": [
            "[[0 1 2 3 4]\n",
            " [5 6 7 8 9]]\n"
          ]
        },
        {
          "output_type": "display_data",
          "data": {
            "image/png": "[encoded data removed]",
            "text/plain": [
              "<Figure size 432x288 with 1 Axes>"
            ]
          },
          "metadata": {
            "needs_background": "light"
          }
        }
      ]
    },
    {
      "cell_type": "markdown",
      "metadata": {
        "id": "em1tNw9ycEgD"
      },
      "source": [
        "Create a list by picking odd index element of one list and even index elemet from another list"
      ]
    },
    {
      "cell_type": "code",
      "metadata": {
        "colab": {
          "base_uri": "https://localhost:8080/"
        },
        "id": "9BXfRqgrcbFP",
        "outputId": "9aaea7cb-c10c-441b-e4eb-2a9e357f9bb8"
      },
      "source": [
        "list1 = [8,7,6,4,2,5,9,1]\n",
        "list2 = [12,15,24,43,57,68,34,21]\n",
        "list3 = list()\n",
        "odd = list1[1::2]\n",
        "even = list2[0::2]\n",
        "list3.extend(odd)\n",
        "list3.extend(even)\n",
        "print(list3)"
      ],
      "execution_count": 13,
      "outputs": [
        {
          "output_type": "stream",
          "name": "stdout",
          "text": [
            "[7, 4, 5, 1, 12, 24, 57, 34]\n"
          ]
        }
      ]
    },
    {
      "cell_type": "markdown",
      "metadata": {
        "id": "L-XXDy3WeeJI"
      },
      "source": [
        "Generate 3 random number between 100 and 999 divisible by 5"
      ]
    },
    {
      "cell_type": "code",
      "metadata": {
        "colab": {
          "base_uri": "https://localhost:8080/"
        },
        "id": "9Xc8Txstewl-",
        "outputId": "45267f91-a651-49cb-965f-5ccff1e0872d"
      },
      "source": [
        "import random\n",
        "\n",
        "print(\"3 random number between 100 and 999 divisible by 5\")\n",
        "for i in range(3):\n",
        "  print(random.randrange(100, 999, 5), end=',')"
      ],
      "execution_count": 15,
      "outputs": [
        {
          "output_type": "stream",
          "name": "stdout",
          "text": [
            "3 random number between 100 and 999 divisible by 5\n",
            "585,905,810,"
          ]
        }
      ]
    },
    {
      "cell_type": "markdown",
      "metadata": {
        "id": "seAu5gbqfUgZ"
      },
      "source": [
        "Random lottery ticket"
      ]
    },
    {
      "cell_type": "code",
      "metadata": {
        "colab": {
          "base_uri": "https://localhost:8080/"
        },
        "id": "aSrSP5lTf2l6",
        "outputId": "4e7c03bc-a7aa-4b8d-8b84-25b88097c521"
      },
      "source": [
        "import random\n",
        "lotterylist = []\n",
        "for i in range(100):\n",
        "  lotterylist.append(random.randrange(1000000000, 9999999999))\n",
        "lucky = random.sample(lotterylist, 2)\n",
        "print(\"lucky 2 winners are\",lucky)  "
      ],
      "execution_count": 16,
      "outputs": [
        {
          "output_type": "stream",
          "name": "stdout",
          "text": [
            "lucky 2 winners are [7480685494, 6885005441]\n"
          ]
        }
      ]
    },
    {
      "cell_type": "markdown",
      "metadata": {
        "id": "VtaqHHJfgujh"
      },
      "source": [
        "Random string of length 5"
      ]
    },
    {
      "cell_type": "code",
      "metadata": {
        "colab": {
          "base_uri": "https://localhost:8080/"
        },
        "id": "zTg_9KMmg002",
        "outputId": "313e11d7-8d9d-4f08-8ccf-ab237ab8a25d"
      },
      "source": [
        "import random\n",
        "import string\n",
        "\n",
        "def randstr(strlength):\n",
        "  letters = string.ascii_letters\n",
        "  return ''.join(random.choice(letters) for i in range(strlength))\n",
        "print(\"Random string if length 5 is:\",randstr(5))  "
      ],
      "execution_count": 17,
      "outputs": [
        {
          "output_type": "stream",
          "name": "stdout",
          "text": [
            "Random string if length 5 is: NmzjA\n"
          ]
        }
      ]
    },
    {
      "cell_type": "markdown",
      "metadata": {
        "id": "Q7koej6thti_"
      },
      "source": [
        "Random charecter from the given string"
      ]
    },
    {
      "cell_type": "code",
      "metadata": {
        "colab": {
          "base_uri": "https://localhost:8080/"
        },
        "id": "54qIeGW8hz_v",
        "outputId": "fc9f08ae-08ed-4a5b-c843-073db17e383e"
      },
      "source": [
        "import random\n",
        "string = input(\"Enter a string:\")\n",
        "char = random.choice(string)\n",
        "print(\"Random charecter is:\",char)"
      ],
      "execution_count": 19,
      "outputs": [
        {
          "output_type": "stream",
          "name": "stdout",
          "text": [
            "Enter a string:Ashiq Badusha\n",
            "Random charecter is: u\n"
          ]
        }
      ]
    }
  ]
}